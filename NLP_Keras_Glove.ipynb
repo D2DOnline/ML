{
  "nbformat": 4,
  "nbformat_minor": 0,
  "metadata": {
    "kernelspec": {
      "display_name": "Python 3",
      "language": "python",
      "name": "python3"
    },
    "language_info": {
      "codemirror_mode": {
        "name": "ipython",
        "version": 3
      },
      "file_extension": ".py",
      "mimetype": "text/x-python",
      "name": "python",
      "nbconvert_exporter": "python",
      "pygments_lexer": "ipython3",
      "version": "3.7.3"
    },
    "colab": {
      "name": "Untitled.ipynb",
      "provenance": []
    }
  },
  "cells": [
    {
      "cell_type": "code",
      "metadata": {
        "id": "mWUx0IhkEdoI",
        "colab_type": "code",
        "colab": {}
      },
      "source": [
        "import numpy as np\n",
        "import pandas as pd"
      ],
      "execution_count": 1,
      "outputs": []
    },
    {
      "cell_type": "code",
      "metadata": {
        "id": "dpDuzC2VF_yh",
        "colab_type": "code",
        "colab": {}
      },
      "source": [
        "all_reviews = np.load('all_reviews.npy', allow_pickle=True)"
      ],
      "execution_count": 4,
      "outputs": []
    },
    {
      "cell_type": "code",
      "metadata": {
        "id": "7DWnCiuwGnRI",
        "colab_type": "code",
        "colab": {}
      },
      "source": [
        "all_reviews_df = pd.DataFrame(all_reviews, columns=['review', 'sentiment', 'words'])"
      ],
      "execution_count": 5,
      "outputs": []
    },
    {
      "cell_type": "code",
      "metadata": {
        "id": "tQ83QPm_GMbo",
        "colab_type": "code",
        "colab": {}
      },
      "source": [
        "all_reviews_df"
      ],
      "execution_count": null,
      "outputs": []
    },
    {
      "cell_type": "code",
      "metadata": {
        "id": "xdJZbpN5HcDm",
        "colab_type": "code",
        "colab": {}
      },
      "source": [
        "def create_lookup(words):\n",
        "  lookup={}\n",
        "  for i in range(len(words)):\n",
        "    try:\n",
        "      word= words[i].decode('utf-8')\n",
        "    except:\n",
        "      word= words[i].encode().decode('utf-8')\n",
        "    lookup[word]=i +1 \n",
        "  return lookup"
      ],
      "execution_count": 7,
      "outputs": []
    },
    {
      "cell_type": "code",
      "metadata": {
        "id": "r6VTSSLPJ69j",
        "colab_type": "code",
        "colab": {}
      },
      "source": [
        "vocab = []\n",
        "for words in all_reviews_df['words']:\n",
        "  for word in words:\n",
        "    vocab.append(word)"
      ],
      "execution_count": 9,
      "outputs": []
    },
    {
      "cell_type": "code",
      "metadata": {
        "id": "LtjFMyg3Kp5e",
        "colab_type": "code",
        "colab": {}
      },
      "source": [
        "vocab_set = set(vocab)"
      ],
      "execution_count": 10,
      "outputs": []
    },
    {
      "cell_type": "code",
      "metadata": {
        "id": "coLG-nrTLOzv",
        "colab_type": "code",
        "colab": {}
      },
      "source": [
        "vocab_dic = create_lookup(list(vocab_set))"
      ],
      "execution_count": 11,
      "outputs": []
    },
    {
      "cell_type": "code",
      "metadata": {
        "id": "GzKihFobg1cs",
        "colab_type": "code",
        "colab": {}
      },
      "source": [
        "'''final_corpus_number=[]\n",
        "for review in all_reviews_df[2]:\n",
        "  corpus_number=[]\n",
        "  for word in review: \n",
        "    corpus_number.append(vocab_dic[word]) \n",
        "  if(len(corpus_number) < 70):      \n",
        "      for i in range(70 - len(corpus_number)):\n",
        "        corpus_number.append(0)\n",
        "  if(len(corpus_number)>70):\n",
        "    corpus_number=corpus_number[:70]\n",
        "  final_corpus_number.append(corpus_number)''"
      ],
      "execution_count": null,
      "outputs": []
    },
    {
      "cell_type": "code",
      "metadata": {
        "id": "REImM5tTioLG",
        "colab_type": "code",
        "colab": {}
      },
      "source": [
        "'''for word in final_corpus_number:\n",
        "  if(len(word)>70):\n",
        "    print('Failed...')'''"
      ],
      "execution_count": null,
      "outputs": []
    },
    {
      "cell_type": "code",
      "metadata": {
        "id": "shUP2i_cioKM",
        "colab_type": "code",
        "colab": {}
      },
      "source": [
        "def generate_id_representation(review_words):\n",
        "  word_ids = []\n",
        "  current_len = 0\n",
        "  for word in review_words:\n",
        "    if current_len >= 70:\n",
        "      break\n",
        "    if word in vocab_dic:\n",
        "      word_ids.append(vocab_dic[word] )\n",
        "    else:\n",
        "      word_ids.append(0)  \n",
        "    current_len = current_len + 1\n",
        "\n",
        "  if current_len < 70:\n",
        "    for i in range(current_len, 70):\n",
        "      word_ids.append(0)   \n",
        "  return word_ids "
      ],
      "execution_count": 26,
      "outputs": []
    },
    {
      "cell_type": "code",
      "metadata": {
        "id": "AwfglD2oZOx0",
        "colab_type": "code",
        "colab": {}
      },
      "source": [
        "all_reviews_df['text_ids'] = all_reviews_df['words'].map(generate_id_representation)"
      ],
      "execution_count": 27,
      "outputs": []
    },
    {
      "cell_type": "code",
      "metadata": {
        "id": "-vpWcqF8gMpP",
        "colab_type": "code",
        "colab": {}
      },
      "source": [
        "for arr in all_reviews_df['text_ids']:\n",
        "  if(len(arr)>70):\n",
        "    print('Failed...')"
      ],
      "execution_count": 34,
      "outputs": []
    },
    {
      "cell_type": "code",
      "metadata": {
        "id": "EF_qrtKzg5kg",
        "colab_type": "code",
        "colab": {}
      },
      "source": [
        "all_reviews_df['text_ids']"
      ],
      "execution_count": null,
      "outputs": []
    },
    {
      "cell_type": "code",
      "metadata": {
        "id": "NZe7enEalWpX",
        "colab_type": "code",
        "colab": {
          "base_uri": "https://localhost:8080/",
          "height": 16
        },
        "outputId": "d4f51f9b-d177-41e6-f086-a5f58fcea9f8"
      },
      "source": [
        "np.save('all_reviews_df.npy', np.array(all_reviews_df))\n",
        "from google.colab import files\n",
        "files.download('all_reviews_df.npy')"
      ],
      "execution_count": 41,
      "outputs": [
        {
          "output_type": "display_data",
          "data": {
            "application/javascript": [
              "\n",
              "    async function download(id, filename, size) {\n",
              "      if (!google.colab.kernel.accessAllowed) {\n",
              "        return;\n",
              "      }\n",
              "      const div = document.createElement('div');\n",
              "      const label = document.createElement('label');\n",
              "      label.textContent = `Downloading \"${filename}\": `;\n",
              "      div.appendChild(label);\n",
              "      const progress = document.createElement('progress');\n",
              "      progress.max = size;\n",
              "      div.appendChild(progress);\n",
              "      document.body.appendChild(div);\n",
              "\n",
              "      const buffers = [];\n",
              "      let downloaded = 0;\n",
              "\n",
              "      const channel = await google.colab.kernel.comms.open(id);\n",
              "      // Send a message to notify the kernel that we're ready.\n",
              "      channel.send({})\n",
              "\n",
              "      for await (const message of channel.messages) {\n",
              "        // Send a message to notify the kernel that we're ready.\n",
              "        channel.send({})\n",
              "        if (message.buffers) {\n",
              "          for (const buffer of message.buffers) {\n",
              "            buffers.push(buffer);\n",
              "            downloaded += buffer.byteLength;\n",
              "            progress.value = downloaded;\n",
              "          }\n",
              "        }\n",
              "      }\n",
              "      const blob = new Blob(buffers, {type: 'application/binary'});\n",
              "      const a = document.createElement('a');\n",
              "      a.href = window.URL.createObjectURL(blob);\n",
              "      a.download = filename;\n",
              "      div.appendChild(a);\n",
              "      a.click();\n",
              "      div.remove();\n",
              "    }\n",
              "  "
            ],
            "text/plain": [
              "<IPython.core.display.Javascript object>"
            ]
          },
          "metadata": {
            "tags": []
          }
        },
        {
          "output_type": "display_data",
          "data": {
            "application/javascript": [
              "download(\"download_12cca26e-4024-4037-9807-3d2c1991c364\", \"all_reviews_df.npy\", 1184742)"
            ],
            "text/plain": [
              "<IPython.core.display.Javascript object>"
            ]
          },
          "metadata": {
            "tags": []
          }
        }
      ]
    }
  ]
}