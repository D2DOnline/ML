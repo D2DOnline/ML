{
  "nbformat": 4,
  "nbformat_minor": 0,
  "metadata": {
    "kernelspec": {
      "display_name": "Python 3",
      "language": "python",
      "name": "python3"
    },
    "language_info": {
      "codemirror_mode": {
        "name": "ipython",
        "version": 3
      },
      "file_extension": ".py",
      "mimetype": "text/x-python",
      "name": "python",
      "nbconvert_exporter": "python",
      "pygments_lexer": "ipython3",
      "version": "3.7.3"
    },
    "colab": {
      "name": "Untitled.ipynb",
      "provenance": []
    }
  },
  "cells": [
    {
      "cell_type": "code",
      "metadata": {
        "id": "IuUvYB9Ze__d",
        "colab_type": "code",
        "colab": {
          "base_uri": "https://localhost:8080/",
          "height": 52
        },
        "outputId": "24315ba0-9325-44c4-f378-1b7c553a7925"
      },
      "source": [
        "!pip install nltk"
      ],
      "execution_count": 1,
      "outputs": [
        {
          "output_type": "stream",
          "text": [
            "Requirement already satisfied: nltk in /usr/local/lib/python3.6/dist-packages (3.2.5)\n",
            "Requirement already satisfied: six in /usr/local/lib/python3.6/dist-packages (from nltk) (1.15.0)\n"
          ],
          "name": "stdout"
        }
      ]
    },
    {
      "cell_type": "code",
      "metadata": {
        "id": "i7obp0ENfdkK",
        "colab_type": "code",
        "colab": {
          "base_uri": "https://localhost:8080/",
          "height": 89
        },
        "outputId": "00003d9c-76ac-4ba3-91c1-6e8875f1b793"
      },
      "source": [
        "import nltk\n",
        "nltk.download('stopwords')\n",
        "\n",
        "sw = nltk.corpus.stopwords.words('english')\n",
        "print(sw)"
      ],
      "execution_count": 1,
      "outputs": [
        {
          "output_type": "stream",
          "text": [
            "[nltk_data] Downloading package stopwords to /root/nltk_data...\n",
            "[nltk_data]   Unzipping corpora/stopwords.zip.\n",
            "['i', 'me', 'my', 'myself', 'we', 'our', 'ours', 'ourselves', 'you', \"you're\", \"you've\", \"you'll\", \"you'd\", 'your', 'yours', 'yourself', 'yourselves', 'he', 'him', 'his', 'himself', 'she', \"she's\", 'her', 'hers', 'herself', 'it', \"it's\", 'its', 'itself', 'they', 'them', 'their', 'theirs', 'themselves', 'what', 'which', 'who', 'whom', 'this', 'that', \"that'll\", 'these', 'those', 'am', 'is', 'are', 'was', 'were', 'be', 'been', 'being', 'have', 'has', 'had', 'having', 'do', 'does', 'did', 'doing', 'a', 'an', 'the', 'and', 'but', 'if', 'or', 'because', 'as', 'until', 'while', 'of', 'at', 'by', 'for', 'with', 'about', 'against', 'between', 'into', 'through', 'during', 'before', 'after', 'above', 'below', 'to', 'from', 'up', 'down', 'in', 'out', 'on', 'off', 'over', 'under', 'again', 'further', 'then', 'once', 'here', 'there', 'when', 'where', 'why', 'how', 'all', 'any', 'both', 'each', 'few', 'more', 'most', 'other', 'some', 'such', 'no', 'nor', 'not', 'only', 'own', 'same', 'so', 'than', 'too', 'very', 's', 't', 'can', 'will', 'just', 'don', \"don't\", 'should', \"should've\", 'now', 'd', 'll', 'm', 'o', 're', 've', 'y', 'ain', 'aren', \"aren't\", 'couldn', \"couldn't\", 'didn', \"didn't\", 'doesn', \"doesn't\", 'hadn', \"hadn't\", 'hasn', \"hasn't\", 'haven', \"haven't\", 'isn', \"isn't\", 'ma', 'mightn', \"mightn't\", 'mustn', \"mustn't\", 'needn', \"needn't\", 'shan', \"shan't\", 'shouldn', \"shouldn't\", 'wasn', \"wasn't\", 'weren', \"weren't\", 'won', \"won't\", 'wouldn', \"wouldn't\"]\n"
          ],
          "name": "stdout"
        }
      ]
    },
    {
      "cell_type": "code",
      "metadata": {
        "id": "KqlZlCCbeRc6",
        "colab_type": "code",
        "colab": {}
      },
      "source": [
        ""
      ],
      "execution_count": null,
      "outputs": []
    },
    {
      "cell_type": "code",
      "metadata": {
        "id": "s0NqcpjHXBPw",
        "colab_type": "code",
        "colab": {
          "base_uri": "https://localhost:8080/",
          "height": 52
        },
        "outputId": "ee42669b-24c6-4693-9132-5da26376678c"
      },
      "source": [
        "nltk.download('wordnet')\n",
        "stem = nltk.stem.PorterStemmer()\n",
        "lem = nltk.stem.WordNetLemmatizer()"
      ],
      "execution_count": 4,
      "outputs": [
        {
          "output_type": "stream",
          "text": [
            "[nltk_data] Downloading package wordnet to /root/nltk_data...\n",
            "[nltk_data]   Package wordnet is already up-to-date!\n"
          ],
          "name": "stdout"
        }
      ]
    },
    {
      "cell_type": "code",
      "metadata": {
        "id": "JpWYs13dbr81",
        "colab_type": "code",
        "colab": {
          "base_uri": "https://localhost:8080/",
          "height": 35
        },
        "outputId": "1a4031f7-95ba-435f-f38b-400f9cbd2c4a"
      },
      "source": [
        "word = \"multiplying\" \n",
        "lem.lemmatize(word, \"v\")"
      ],
      "execution_count": 5,
      "outputs": [
        {
          "output_type": "execute_result",
          "data": {
            "application/vnd.google.colaboratory.intrinsic+json": {
              "type": "string"
            },
            "text/plain": [
              "'multiply'"
            ]
          },
          "metadata": {
            "tags": []
          },
          "execution_count": 5
        }
      ]
    },
    {
      "cell_type": "code",
      "metadata": {
        "id": "6DfnKpxncxqu",
        "colab_type": "code",
        "colab": {
          "base_uri": "https://localhost:8080/",
          "height": 35
        },
        "outputId": "2d61191c-f6ef-49f7-b3a3-251e7e940b13"
      },
      "source": [
        "stem.stem(word)"
      ],
      "execution_count": 6,
      "outputs": [
        {
          "output_type": "execute_result",
          "data": {
            "application/vnd.google.colaboratory.intrinsic+json": {
              "type": "string"
            },
            "text/plain": [
              "'multipli'"
            ]
          },
          "metadata": {
            "tags": []
          },
          "execution_count": 6
        }
      ]
    },
    {
      "cell_type": "code",
      "metadata": {
        "id": "6MizrQowYEeK",
        "colab_type": "code",
        "colab": {
          "base_uri": "https://localhost:8080/",
          "height": 277
        },
        "outputId": "9b44e8ac-b59e-4a8b-df1d-938fc1787e35"
      },
      "source": [
        "from sklearn.feature_extraction.text import TfidfVectorizer,CountVectorizer\n",
        "\n",
        "obj = CountVectorizer(ngram_range=(2,2))\n",
        "corpus = ['This is sample document. document is clear.']\n",
        "X = obj.fit_transform(corpus)\n",
        "print('-------------N Gram vectorizer--------------')\n",
        "print(obj.get_feature_names())\n",
        "print(X)\n",
        "print('-------------TF IDF vectorizer--------------')\n",
        "tfobj = TfidfVectorizer()\n",
        "Y = tfobj.fit_transform(corpus)\n",
        "print(tfobj.get_feature_names())\n",
        "print(Y)"
      ],
      "execution_count": 20,
      "outputs": [
        {
          "output_type": "stream",
          "text": [
            "-------------N Gram vectorizer--------------\n",
            "['document document', 'document is', 'is clear', 'is sample', 'sample document', 'this is']\n",
            "  (0, 5)\t1\n",
            "  (0, 3)\t1\n",
            "  (0, 4)\t1\n",
            "  (0, 0)\t1\n",
            "  (0, 1)\t1\n",
            "  (0, 2)\t1\n",
            "-------------TF IDF vectorizer--------------\n",
            "['clear', 'document', 'is', 'sample', 'this']\n",
            "  (0, 0)\t0.30151134457776363\n",
            "  (0, 1)\t0.6030226891555273\n",
            "  (0, 3)\t0.30151134457776363\n",
            "  (0, 2)\t0.6030226891555273\n",
            "  (0, 4)\t0.30151134457776363\n"
          ],
          "name": "stdout"
        }
      ]
    },
    {
      "cell_type": "code",
      "metadata": {
        "id": "bgZ9H3PcV4Wj",
        "colab_type": "code",
        "colab": {}
      },
      "source": [
        "import gensim \n",
        "from gensim.models import Word2Vec\n",
        "sentences = [['cat','cute'],['anand','male'],['dog','bark'],['elephant','heavy']]"
      ],
      "execution_count": 10,
      "outputs": []
    },
    {
      "cell_type": "code",
      "metadata": {
        "id": "7xnFwgYTjyL_",
        "colab_type": "code",
        "colab": {
          "base_uri": "https://localhost:8080/",
          "height": 124
        },
        "outputId": "a73ac9db-d1a6-4bc7-c46d-44bfce7b81c9"
      },
      "source": [
        "model = Word2Vec(sentences, min_count = 1)\n",
        "\n",
        "print(model.similarity('elephant', 'bark'))"
      ],
      "execution_count": 17,
      "outputs": [
        {
          "output_type": "stream",
          "text": [
            "-0.016136229\n"
          ],
          "name": "stdout"
        },
        {
          "output_type": "stream",
          "text": [
            "/usr/local/lib/python3.6/dist-packages/ipykernel_launcher.py:3: DeprecationWarning: Call to deprecated `similarity` (Method will be removed in 4.0.0, use self.wv.similarity() instead).\n",
            "  This is separate from the ipykernel package so we can avoid doing imports until\n",
            "/usr/local/lib/python3.6/dist-packages/gensim/matutils.py:737: FutureWarning: Conversion of the second argument of issubdtype from `int` to `np.signedinteger` is deprecated. In future, it will be treated as `np.int64 == np.dtype(int).type`.\n",
            "  if np.issubdtype(vec.dtype, np.int):\n"
          ],
          "name": "stderr"
        }
      ]
    },
    {
      "cell_type": "code",
      "metadata": {
        "id": "Foi78Aw9k07J",
        "colab_type": "code",
        "colab": {
          "base_uri": "https://localhost:8080/",
          "height": 367
        },
        "outputId": "a73ab900-0fb0-4387-ba1e-5b86416b65fe"
      },
      "source": [
        "print(model['learning'])"
      ],
      "execution_count": 9,
      "outputs": [
        {
          "output_type": "stream",
          "text": [
            "[-0.00088161 -0.003907   -0.00113335  0.00073069 -0.00396354  0.00296468\n",
            "  0.00214817 -0.00062945 -0.00146018  0.00073928  0.00327101  0.00259694\n",
            "  0.00262303  0.00381705 -0.00438942 -0.00488868  0.00057759  0.00105753\n",
            " -0.00100217  0.00030622  0.00414752  0.00282621  0.00249896  0.00203767\n",
            " -0.00178629 -0.00035703  0.00083156 -0.0030949  -0.00358995  0.00422311\n",
            "  0.00155768  0.00038164 -0.0027698   0.00071075 -0.00281282 -0.00226076\n",
            "  0.00193188  0.00294134 -0.001107    0.00326532  0.00303349  0.00203949\n",
            " -0.00110373  0.00317339 -0.00452786  0.00050152  0.00095999 -0.00197697\n",
            "  0.00176531 -0.00248757  0.00239768 -0.00464813 -0.0028709  -0.0032169\n",
            " -0.00162257 -0.00084631  0.00164955 -0.00017226  0.00361695  0.00439342\n",
            " -0.00364694 -0.00165585  0.00244402 -0.00142951 -0.00025548  0.00396858\n",
            " -0.00206079  0.00118095 -0.00349072 -0.00154877  0.00481783  0.00038224\n",
            "  0.00175209 -0.00325752  0.00427607 -0.00144797 -0.00166781  0.00014088\n",
            "  0.00043137  0.00363182 -0.00274157 -0.0037026  -0.00448724  0.00328797\n",
            " -0.00240044 -0.00439609  0.0045159  -0.00273978  0.00131002  0.00143283\n",
            "  0.00165063  0.00056268 -0.00084234 -0.00103117 -0.00370009 -0.00414834\n",
            " -0.00131055 -0.0028417   0.00217918 -0.00176982]\n"
          ],
          "name": "stdout"
        },
        {
          "output_type": "stream",
          "text": [
            "/usr/local/lib/python3.6/dist-packages/ipykernel_launcher.py:1: DeprecationWarning: Call to deprecated `__getitem__` (Method will be removed in 4.0.0, use self.wv.__getitem__() instead).\n",
            "  \"\"\"Entry point for launching an IPython kernel.\n"
          ],
          "name": "stderr"
        }
      ]
    }
  ]
}